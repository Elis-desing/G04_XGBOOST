{
 "cells": [
  {
   "cell_type": "markdown",
   "id": "fa67f56a",
   "metadata": {
    "slideshow": {
     "slide_type": "slide"
    }
   },
   "source": [
    "<div style=\"display: flex; align-items: center;\">\n",
    "    <div style=\"flex: 1; font-family: Arial, sans-serif; text-align: center;\">\n",
    "        <h1>UNIVERSIDAD CENTRAL DEL ECUADOR</h1>\n",
    "        <h2>FACULTAD DE CIENCIAS ECONÓMICAS</h2>\n",
    "        <h3>ESCUELA DE INGENIERÍA ESTADÍSTICA</h3>\n",
    "        <h4>EXTREME GRADIENT BOOSTING</h4>\n",
    "    </div>\n",
    "    <div style=\"flex: 1; text-align: right;\">\n",
    "        <img src= \"IMAGENES/Imagen0_0.jpg\" alt=\"Descripción de la imagen\">\n",
    "    </div>\n",
    "</div>\n",
    "\n",
    "\n",
    "\n",
    "\n"
   ]
  },
  {
   "cell_type": "markdown",
   "id": "bb39c4d0",
   "metadata": {
    "slideshow": {
     "slide_type": "slide"
    }
   },
   "source": [
    "<div style=\"text-align: center;\">\n",
    "    <img src=\"IMAGENES/Imagen2_0.png\" alt=\"Descripción de la imagen\" style=\"max-width: 100%; height: auto;\">\n",
    "</div>\n",
    "\n",
    "<div style=\"display: grid; grid-template-columns: 1fr 1fr; gap: 20px;\">\n",
    "    <div style=\"font-size: 18px; color: #333; font-weight: bold; text-align: center;\">\n",
    "        Historia:\n",
    "    </div>\n",
    "    <div style=\"font-size: 16px; color: #333; text-align: center;\">\n",
    "        Tianqi Chen & Carlos Guestrin <br>\n",
    "        University of Washington <br>\n",
    "        Conferencia SIGKDD,2016\n",
    "    </div>\n",
    "</div>\n"
   ]
  },
  {
   "cell_type": "markdown",
   "id": "8372e051",
   "metadata": {
    "slideshow": {
     "slide_type": "subslide"
    }
   },
   "source": [
    "<div style=\"text-align: left;\">\n",
    "    <img src=\"IMAGENES/Imagen3_0.jpg\" alt=\"Descripción de la imagen\" style=\"max-width: 100%; height: auto;\">\n",
    "</div>"
   ]
  },
  {
   "cell_type": "markdown",
   "id": "49bd2646",
   "metadata": {
    "slideshow": {
     "slide_type": "subslide"
    }
   },
   "source": [
    "<div style=\"background-color: #b3d9ff; color: black; padding: 20px; text-align: center;\">\n",
    "    <h1>Soluciones Ganadoras</h1>\n",
    "</div>\n",
    "\n",
    "<div style=\"text-align: left;\">\n",
    "    <img src=\"IMAGENES/Imagen4_0.jpg\" alt=\"Descripción de la imagen\" >\n",
    "</div>"
   ]
  },
  {
   "cell_type": "markdown",
   "id": "d960ba94",
   "metadata": {
    "slideshow": {
     "slide_type": "subslide"
    }
   },
   "source": [
    "<div style=\"background-color: #b3d9ff; color: black; padding: 20px; text-align: center;\">\n",
    "    <h1>CONTRIBUCIÓN DEL ARTÍCULO</h1>\n",
    "</div>\n",
    "\n",
    "<div style=\"text-align: left;\">\n",
    "    <img src=\"IMAGENES/Paper.jpg\" alt=\"Descripción de la imagen\" >\n",
    "</div>"
   ]
  },
  {
   "cell_type": "markdown",
   "id": "b6210685",
   "metadata": {
    "slideshow": {
     "slide_type": "slide"
    }
   },
   "source": [
    "**1. ¿ Qué es el Extreme Gradient Boosting?**\n",
    "\n",
    "<div style=\"display: flex; align-items: left;\">\n",
    "    <div style=\"flex: 1;\">\n",
    "        Algoritmo de aprendizaje automático basado en un árbol de decisiones y que utiliza un marco de potenciación de gradientes.\n",
    "    </div>\n",
    "    <div style=\"flex: 1; text-align: right;\">\n",
    "        <img src=\"IMAGENES/Imagen1_0.png\" alt=\"Descripción de la imagen\" style=\"width: 1500px;\">\n",
    "    </div>\n",
    "</div>\n",
    "\n",
    "    "
   ]
  },
  {
   "cell_type": "markdown",
   "id": "5d100343",
   "metadata": {
    "slideshow": {
     "slide_type": "subslide"
    }
   },
   "source": [
    "<div style=\"background-color: #FFD699; color: black; padding: 20px; text-align: center;\">\n",
    "    <h1>CARACTERÍSTICAS</h1>\n",
    "</div>\n",
    "\n",
    "<div style=\"text-align: left;\">\n",
    "    <img src=\"IMAGENES/Características.jpg\" alt=\"Descripción de la imagen\" >\n",
    "</div>"
   ]
  },
  {
   "cell_type": "markdown",
   "id": "df60f4c1",
   "metadata": {
    "slideshow": {
     "slide_type": "subslide"
    }
   },
   "source": [
    "<div style=\"background-color: #FFCCCC; color: black; padding: 20px; text-align: center;\">\n",
    "    <h1>PARÁMETROS</h1>\n",
    "</div>\n",
    "\n",
    "<div style=\"text-align: left;\">\n",
    "    <img src=\"IMAGENES/Parametros.jpg\" alt=\"Descripción de la imagen\" >\n",
    "</div>"
   ]
  },
  {
   "cell_type": "markdown",
   "id": "9e90ed85",
   "metadata": {
    "slideshow": {
     "slide_type": "slide"
    }
   },
   "source": [
    "<div style=\"background-color: #AEEEEE; color: black; padding: 20px; text-align: center;\">\n",
    "    <h1>METODOLOGÍA</h1>\n",
    "</div>\n",
    "\n",
    "<div style=\"text-align: left;\">\n",
    "    <img src=\"IMAGENES/M1.png\" alt=\"Descripción de la imagen\" >\n",
    "</div>"
   ]
  },
  {
   "cell_type": "markdown",
   "id": "b3fd8bf9",
   "metadata": {
    "slideshow": {
     "slide_type": "subslide"
    }
   },
   "source": [
    "<div style=\"background-color: #AEEEEE; color: black; padding: 20px; text-align: center;\">\n",
    "    <h1>METODOLOGÍA</h1>\n",
    "</div>\n",
    "\n",
    "<div style=\"text-align: left;\">\n",
    "    <img src=\"IMAGENES/M2.png\" alt=\"Descripción de la imagen\" >\n",
    "</div>"
   ]
  },
  {
   "cell_type": "markdown",
   "id": "c6a6cae7",
   "metadata": {
    "slideshow": {
     "slide_type": "subslide"
    }
   },
   "source": [
    "<div style=\"background-color: #AEEEEE; color: black; padding: 20px; text-align: center;\">\n",
    "    <h1>APLICACIÓN DE SERIES DE TAYLOR</h1>\n",
    "</div>\n",
    "\n",
    "<div style=\"text-align: left;\">\n",
    "    <img src=\"IMAGENES/M3.png\" alt=\"Descripción de la imagen\" >\n",
    "</div>"
   ]
  },
  {
   "cell_type": "markdown",
   "id": "0079c332",
   "metadata": {
    "slideshow": {
     "slide_type": "slide"
    }
   },
   "source": [
    "<div style=\"background-color: #90EE90; color: black; padding: 20px; text-align: center;\">\n",
    "    <h1>COMPLEJIDAD</h1>\n",
    "</div>\n",
    "\n",
    "<div style=\"text-align: left;\">\n",
    "    <img src=\"IMAGENES/M4.png\" alt=\"Descripción de la imagen\" >\n",
    "</div>"
   ]
  },
  {
   "cell_type": "markdown",
   "id": "2d0bebe5",
   "metadata": {
    "slideshow": {
     "slide_type": "subslide"
    }
   },
   "source": [
    "<div style=\"background-color: #90EE90; color: black; padding: 20px; text-align: center;\">\n",
    "    <h1>COMPLEJIDAD</h1>\n",
    "</div>\n",
    "\n",
    "<div style=\"text-align: left;\">\n",
    "    <img src=\"IMAGENES/M5.png\" alt=\"Descripción de la imagen\" >\n",
    "</div>"
   ]
  },
  {
   "cell_type": "markdown",
   "id": "3e2d6344",
   "metadata": {
    "slideshow": {
     "slide_type": "subslide"
    }
   },
   "source": [
    "<div style=\"background-color: #90EE90; color: black; padding: 20px; text-align: center;\">\n",
    "    <h1>COMPLEJIDAD</h1>\n",
    "</div>\n",
    "\n",
    "<div style=\"text-align: left;\">\n",
    "    <img src=\"IMAGENES/M6.png\" alt=\"Descripción de la imagen\" >\n",
    "</div>"
   ]
  },
  {
   "cell_type": "markdown",
   "id": "65485e3b",
   "metadata": {
    "slideshow": {
     "slide_type": "subslide"
    }
   },
   "source": [
    "<div style=\"background-color: #90EE90; color: black; padding: 20px; text-align: center;\">\n",
    "    <h1>COMPLEJIDAD</h1>\n",
    "</div>\n",
    "\n",
    "<div style=\"text-align: left;\">\n",
    "    <img src=\"IMAGENES/M7.png\" alt=\"Descripción de la imagen\" >\n",
    "</div>"
   ]
  },
  {
   "cell_type": "markdown",
   "id": "41b9dc20",
   "metadata": {
    "slideshow": {
     "slide_type": "slide"
    }
   },
   "source": [
    "<div style=\"background-color:#FFD699; color: black; padding: 20px; text-align: center;\">\n",
    "    <h1>VENTAJAS</h1>\n",
    "</div>\n",
    "\n",
    "<div style=\"text-align: left;\">\n",
    "    <img src=\"IMAGENES/Ventajas.jpg\" alt=\"Descripción de la imagen\" >\n",
    "</div>"
   ]
  },
  {
   "cell_type": "markdown",
   "id": "efec42d9",
   "metadata": {
    "slideshow": {
     "slide_type": "slide"
    }
   },
   "source": [
    "<div style=\"background-color:#FFFFCC; color: black; padding: 20px; text-align: center;\">\n",
    "    <h1>DESVENTAJAS</h1>\n",
    "</div>\n",
    "\n",
    "<div style=\"text-align: left;\">\n",
    "    <img src=\"IMAGENES/Desventajas.jpg\" alt=\"Descripción de la imagen\" >\n",
    "</div>"
   ]
  },
  {
   "cell_type": "markdown",
   "id": "707ec101",
   "metadata": {
    "slideshow": {
     "slide_type": "slide"
    }
   },
   "source": [
    "<div style=\"background-color: #b3d9ff; color: black; padding: 20px; text-align: center;\">\n",
    "    <h1>APLICACIONES</h1>\n",
    "</div>\n",
    "\n",
    "<div style=\"text-align: left;\">\n",
    "    <img src=\"IMAGENES/Aplicaciones.jpg\" alt=\"Descripción de la imagen\" >\n",
    "</div>"
   ]
  },
  {
   "cell_type": "markdown",
   "id": "17e0575f",
   "metadata": {
    "slideshow": {
     "slide_type": "subslide"
    }
   },
   "source": [
    "<div style=\"background-color: #b3d9ff; color: black; padding: 20px; text-align: center;\">\n",
    "    <h1>EMPRESAS</h1>\n",
    "</div>\n",
    "\n",
    "<div style=\"text-align: left;\">\n",
    "    <img src=\"IMAGENES/F2.png\" alt=\"Descripción de la imagen\" >\n",
    "</div>"
   ]
  },
  {
   "cell_type": "markdown",
   "id": "0ff0f38b",
   "metadata": {
    "slideshow": {
     "slide_type": "subslide"
    }
   },
   "source": [
    "<div style=\"background-color: #b3d9ff; color: black; padding: 20px; text-align: center;\">\n",
    "    <h1>Automatic method for classifying COVID-19 patients based on chest X-ray images, using deep features and XGBoost</h1>\n",
    "</div>\n",
    "\n",
    "<div style=\"text-align: left;\">\n",
    "    <img src=\"IMAGENES/Covid.jpg\" alt=\"Descripción de la imagen\" >\n",
    "</div>"
   ]
  },
  {
   "cell_type": "markdown",
   "id": "5748c87f",
   "metadata": {
    "slideshow": {
     "slide_type": "slide"
    }
   },
   "source": [
    "<div style=\"background-color: #b3d9ff; color:black; padding: 20px; text-align: center;\">\n",
    "    <h1>REFERENCIAS BIBLIOGRÁFICAS</h1>\n",
    "</div>\n",
    "\n",
    "- ArcGIS AllSource. (s. f.). Cómo funciona el algoritmo XGBoost—ArcGIS AllSource | Documentación. ArcGIS. Recuperado 5 de agosto de 2023, de https://doc.arcgis.com/es/allsource/latest/analysis/geoprocessing-tools/geoai/how-xgboost-works.htm\n",
    "- Chen, T., & Guestrin, C. (2016). XGBoost: A Scalable Tree Boosting System. Proceedings of the 22nd ACM SIGKDD International Conference on Knowledge Discovery and Data Mining, 785-794. https://doi.org/10.1145/2939672.2939785\n",
    "- Data Science Team. (2020, abril 2). XGBoost—Programación—DATA SCIENCE. https://datascience.eu/es/programacion/xgboost-4/\n",
    "- Serengil, S. (2019, noviembre 3). A Gentle Introduction to XGBoost for Applied Machine Learning. Sefik Ilkin Serengil. https://sefiks.com/2019/11/03/a-gentle-introduction-to-xgboost-for-applied-machine-learning/\n",
    "\n"
   ]
  },
  {
   "cell_type": "code",
   "execution_count": null,
   "id": "b38a52b5",
   "metadata": {},
   "outputs": [],
   "source": []
  }
 ],
 "metadata": {
  "kernelspec": {
   "display_name": "Python 3 (ipykernel)",
   "language": "python",
   "name": "python3"
  },
  "language_info": {
   "codemirror_mode": {
    "name": "ipython",
    "version": 3
   },
   "file_extension": ".py",
   "mimetype": "text/x-python",
   "name": "python",
   "nbconvert_exporter": "python",
   "pygments_lexer": "ipython3",
   "version": "3.10.9"
  },
  "nbTranslate": {
   "displayLangs": [
    "*"
   ],
   "hotkey": "alt-t",
   "langInMainMenu": true,
   "sourceLang": "en",
   "targetLang": "fr",
   "useGoogleTranslate": true
  },
  "rise": {
   "_backimage": "pycon-latam-background.png",
   "_theme_options": [
    "black",
    "white",
    "league",
    "beige",
    "sky",
    "night",
    "serif"
   ],
   "_transition_options": [
    "none",
    "fade",
    "slide",
    "convex",
    "concave",
    "zoom"
   ],
   "autolauch": false,
   "enable_chalkboard": false,
   "footer": "<h2>Integrantes: Llumiquinga Darwin - Márquez Cristian - Medina Elizabeth - Mesa Araisa</h2><br><br>",
   "header": "<br><h2>XGBOOST</h2>",
   "theme": "white",
   "transition": "slide"
  },
  "varInspector": {
   "cols": {
    "lenName": 16,
    "lenType": 16,
    "lenVar": 40
   },
   "kernels_config": {
    "python": {
     "delete_cmd_postfix": "",
     "delete_cmd_prefix": "del ",
     "library": "var_list.py",
     "varRefreshCmd": "print(var_dic_list())"
    },
    "r": {
     "delete_cmd_postfix": ") ",
     "delete_cmd_prefix": "rm(",
     "library": "var_list.r",
     "varRefreshCmd": "cat(var_dic_list()) "
    }
   },
   "types_to_exclude": [
    "module",
    "function",
    "builtin_function_or_method",
    "instance",
    "_Feature"
   ],
   "window_display": false
  }
 },
 "nbformat": 4,
 "nbformat_minor": 5
}
